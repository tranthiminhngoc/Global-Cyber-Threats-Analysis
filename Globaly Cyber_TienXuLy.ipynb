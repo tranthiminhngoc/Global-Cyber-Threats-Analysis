{
 "cells": [
  {
   "cell_type": "code",
   "execution_count": null,
   "id": "2606ece5",
   "metadata": {},
   "outputs": [],
   "source": [
    "import pandas as pd\n",
    "import matplotlib.pyplot as plt\n",
    "import seaborn as sns"
   ]
  },
  {
   "cell_type": "markdown",
   "id": "6aff82c7",
   "metadata": {},
   "source": [
    "Đọc dữ liệu"
   ]
  },
  {
   "cell_type": "code",
   "execution_count": null,
   "id": "c69a37cd",
   "metadata": {},
   "outputs": [
    {
     "data": {
      "text/plain": [
       "(3000, 10)"
      ]
     },
     "execution_count": 2,
     "metadata": {},
     "output_type": "execute_result"
    }
   ],
   "source": [
    "data_path = r\"D:\\NEU\\Data Storytelling\\Global Cyber Threats.xlsx\"\n",
    "df = pd.read_excel(data_path)\n",
    "\n",
    "df.shape\n"
   ]
  },
  {
   "cell_type": "markdown",
   "id": "1e7bdce6",
   "metadata": {},
   "source": [
    "Kiểm tra missing values và kiểu dữ liệu "
   ]
  },
  {
   "cell_type": "code",
   "execution_count": 3,
   "id": "6ed63efd",
   "metadata": {},
   "outputs": [
    {
     "name": "stdout",
     "output_type": "stream",
     "text": [
      ">> MISSING VALUE & DATA TYPE SUMMARY:\n",
      "                                Column  Missing Count  Missing % Data Type\n",
      "0                              Country              0        0.0    object\n",
      "1                                 Year              0        0.0     int64\n",
      "2                          Attack Type              0        0.0    object\n",
      "3                      Target Industry              0        0.0    object\n",
      "4        Financial Loss (in Million $)              0        0.0   float64\n",
      "5             Number of Affected Users              0        0.0     int64\n",
      "6                        Attack Source              0        0.0    object\n",
      "7          Security Vulnerability Type              0        0.0    object\n",
      "8               Defense Mechanism Used              0        0.0    object\n",
      "9  Incident Resolution Time (in Hours)              0        0.0     int64\n"
     ]
    }
   ],
   "source": [
    "def check_missing_and_types(df):\n",
    "    missing_summary = df.isnull().sum().reset_index()\n",
    "    missing_summary.columns = ['Column', 'Missing Count']\n",
    "    missing_summary['Missing %'] = (missing_summary['Missing Count'] / len(df)) * 100\n",
    "    dtypes_summary = df.dtypes.reset_index()\n",
    "    dtypes_summary.columns = ['Column', 'Data Type']\n",
    "    return pd.merge(missing_summary, dtypes_summary, on='Column')\n",
    "\n",
    "# Kiểm tra missing + kiểu dữ liệu\n",
    "summary_missing_types = check_missing_and_types(df)\n",
    "print(\">> MISSING VALUE & DATA TYPE SUMMARY:\")\n",
    "print(summary_missing_types)\n"
   ]
  },
  {
   "cell_type": "markdown",
   "id": "b162ac4a",
   "metadata": {},
   "source": [
    "Kiểm tra outlier"
   ]
  },
  {
   "cell_type": "code",
   "execution_count": 5,
   "id": "1600d8f9",
   "metadata": {},
   "outputs": [
    {
     "name": "stderr",
     "output_type": "stream",
     "text": [
      "C:\\Users\\Admin\\AppData\\Local\\Temp\\ipykernel_5908\\2709750626.py:8: MatplotlibDeprecationWarning: The 'labels' parameter of boxplot() has been renamed 'tick_labels' since Matplotlib 3.9; support for the old name will be dropped in 3.11.\n",
      "  ax.boxplot(data_to_plot, patch_artist=True, labels=['Financial Loss ($M)', 'Resolution Time (Hours)'])\n"
     ]
    },
    {
     "data": {
      "image/png": "[encoded data removed]",
      "text/plain": [
       "<Figure size 1000x600 with 1 Axes>"
      ]
     },
     "metadata": {},
     "output_type": "display_data"
    }
   ],
   "source": [
    "data_to_plot = [\n",
    "    df['Financial Loss (in Million $)'].dropna(),\n",
    "    df['Incident Resolution Time (in Hours)'].dropna()\n",
    "]\n",
    "\n",
    "# Tạo biểu đồ\n",
    "fig, ax = plt.subplots(figsize=(10, 6))\n",
    "ax.boxplot(data_to_plot, patch_artist=True, labels=['Financial Loss ($M)', 'Resolution Time (Hours)'])\n",
    "ax.set_title('Boxplot of Financial Loss and Incident Resolution Time')\n",
    "ax.set_ylabel('Value')\n",
    "plt.show()\n"
   ]
  },
  {
   "cell_type": "markdown",
   "id": "ca32ec3f",
   "metadata": {},
   "source": [
    "Kiểm tra phân phối từng giá trị"
   ]
  },
  {
   "cell_type": "code",
   "execution_count": 7,
   "id": "002e30d4",
   "metadata": {},
   "outputs": [
    {
     "name": "stdout",
     "output_type": "stream",
     "text": [
      "\n",
      ">> Phân phối cột: Country\n",
      "Country\n",
      "UK        10.700000\n",
      "Brazil    10.333333\n",
      "India     10.266667\n",
      "Japan     10.166667\n",
      "France    10.166667\n",
      "Name: proportion, dtype: float64\n",
      "\n",
      ">> Phân phối cột: Attack Type\n",
      "Attack Type\n",
      "DDoS             17.700000\n",
      "Phishing         17.633333\n",
      "SQL Injection    16.766667\n",
      "Ransomware       16.433333\n",
      "Malware          16.166667\n",
      "Name: proportion, dtype: float64\n",
      "\n",
      ">> Phân phối cột: Target Industry\n",
      "Target Industry\n",
      "IT            15.933333\n",
      "Banking       14.833333\n",
      "Healthcare    14.300000\n",
      "Retail        14.100000\n",
      "Education     13.966667\n",
      "Name: proportion, dtype: float64\n",
      "\n",
      ">> Phân phối cột: Attack Source\n",
      "Attack Source\n",
      "Nation-state    26.466667\n",
      "Unknown         25.600000\n",
      "Insider         25.066667\n",
      "Hacker Group    22.866667\n",
      "Name: proportion, dtype: float64\n",
      "\n",
      ">> Phân phối cột: Security Vulnerability Type\n",
      "Security Vulnerability Type\n",
      "Zero-day              26.166667\n",
      "Social Engineering    24.900000\n",
      "Unpatched Software    24.600000\n",
      "Weak Passwords        24.333333\n",
      "Name: proportion, dtype: float64\n",
      "\n",
      ">> Phân phối cột: Defense Mechanism Used\n",
      "Defense Mechanism Used\n",
      "Antivirus             20.933333\n",
      "VPN                   20.400000\n",
      "Encryption            19.733333\n",
      "Firewall              19.500000\n",
      "AI-based Detection    19.433333\n",
      "Name: proportion, dtype: float64\n"
     ]
    }
   ],
   "source": [
    "for col in df.select_dtypes(include='object').columns:\n",
    "    print(f\"\\n>> Phân phối cột: {col}\")\n",
    "    print(df[col].value_counts(normalize=True).head(5) * 100)\n"
   ]
  }
 ],
 "metadata": {
  "kernelspec": {
   "display_name": "Python 3",
   "language": "python",
   "name": "python3"
  },
  "language_info": {
   "codemirror_mode": {
    "name": "ipython",
    "version": 3
   },
   "file_extension": ".py",
   "mimetype": "text/x-python",
   "name": "python",
   "nbconvert_exporter": "python",
   "pygments_lexer": "ipython3",
   "version": "3.12.5"
  }
 },
 "nbformat": 4,
 "nbformat_minor": 5
}
